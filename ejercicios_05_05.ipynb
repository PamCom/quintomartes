{
  "nbformat": 4,
  "nbformat_minor": 0,
  "metadata": {
    "colab": {
      "provenance": [],
      "authorship_tag": "ABX9TyPZqtr7k0VjkW6iIPawwnJl",
      "include_colab_link": true
    },
    "kernelspec": {
      "name": "python3",
      "display_name": "Python 3"
    },
    "language_info": {
      "name": "python"
    }
  },
  "cells": [
    {
      "cell_type": "markdown",
      "metadata": {
        "id": "view-in-github",
        "colab_type": "text"
      },
      "source": [
        "<a href=\"https://colab.research.google.com/github/PamCom/quintomartes/blob/main/ejercicios_05_05.ipynb\" target=\"_parent\"><img src=\"https://colab.research.google.com/assets/colab-badge.svg\" alt=\"Open In Colab\"/></a>"
      ]
    },
    {
      "cell_type": "code",
      "execution_count": 2,
      "metadata": {
        "colab": {
          "base_uri": "https://localhost:8080/"
        },
        "id": "LmrD_kxyWCPW",
        "outputId": "6f99e70a-d6ca-4644-b4b1-a1cfe671e24d"
      },
      "outputs": [
        {
          "output_type": "stream",
          "name": "stdout",
          "text": [
            "Soy un auto\n",
            "Soy una moto\n",
            "Soy un camión\n"
          ]
        }
      ],
      "source": [
        "# 1 sistema de vehículos\n",
        "class Vehiculo:\n",
        "    def describir(self):\n",
        "        pass\n",
        "\n",
        "class Auto(Vehiculo):\n",
        "    def describir(self):\n",
        "        return \"Soy un auto\"\n",
        "\n",
        "class Moto(Vehiculo):\n",
        "    def describir(self):\n",
        "        return \"Soy una moto\"\n",
        "\n",
        "class Camion(Vehiculo):\n",
        "    def describir(self):\n",
        "        return \"Soy un camión\"\n",
        "\n",
        "vehiculos = [Auto(), Moto(), Camion()]\n",
        "for v in vehiculos:\n",
        "    print(v.describir())"
      ]
    },
    {
      "cell_type": "code",
      "source": [
        "# 2 inventario de productos\n",
        "class Producto:\n",
        "    def __init__(self, precio, cantidad):\n",
        "        self.precio = precio\n",
        "        self.cantidad = cantidad\n",
        "\n",
        "class ProductoPerecedero(Producto):\n",
        "    pass\n",
        "\n",
        "class ProductoNoPerecedero(Producto):\n",
        "    pass\n",
        "\n",
        "productos = [ProductoPerecedero(10, 5), ProductoNoPerecedero(20, 15)]\n",
        "total = 0\n",
        "for p in productos:\n",
        "    if p.cantidad > 10:\n",
        "        total += p.precio * p.cantidad * 0.9\n",
        "    else:\n",
        "        total += p.precio * p.cantidad\n",
        "print(total)"
      ],
      "metadata": {
        "colab": {
          "base_uri": "https://localhost:8080/"
        },
        "id": "wigkV5gOXRu6",
        "outputId": "c7a85093-7d6f-432b-a31a-96749b3bc455"
      },
      "execution_count": 3,
      "outputs": [
        {
          "output_type": "stream",
          "name": "stdout",
          "text": [
            "320.0\n"
          ]
        }
      ]
    },
    {
      "cell_type": "code",
      "source": [
        "# 3 sistema bancario\n",
        "class CuentaBancaria:\n",
        "    def __init__(self, saldo):\n",
        "        self.saldo = saldo\n",
        "\n",
        "    def mostrar_tipo(self):\n",
        "        pass\n",
        "\n",
        "    def consultar_saldo(self):\n",
        "        return self.saldo\n",
        "\n",
        "    def depositar(self, monto):\n",
        "        self.saldo += monto\n",
        "\n",
        "    def retirar(self, monto):\n",
        "        if monto <= self.saldo:\n",
        "            self.saldo -= monto\n",
        "            return True\n",
        "        return False\n",
        "\n",
        "class CuentaAhorro(CuentaBancaria):\n",
        "    def mostrar_tipo(self):\n",
        "        return \"Cuenta Ahorro\"\n",
        "\n",
        "class CuentaCorriente(CuentaBancaria):\n",
        "    def mostrar_tipo(self):\n",
        "        return \"Cuenta Corriente\"\n",
        "\n",
        "cuenta = CuentaAhorro(1000)\n",
        "while True:\n",
        "    print(\"1. Consultar 2. Depositar 3. Retirar 4. Salir\")\n",
        "    opcion = input()\n",
        "    if opcion == \"1\":\n",
        "        print(cuenta.consultar_saldo())\n",
        "    elif opcion == \"2\":\n",
        "        cuenta.depositar(float(input(\"Monto: \")))\n",
        "    elif opcion == \"3\":\n",
        "        if cuenta.retirar(float(input(\"Monto: \"))):\n",
        "            print(\"Retiro exitoso\")\n",
        "        else:\n",
        "            print(\"Fondos insuficientes\")\n",
        "    elif opcion == \"4\":\n",
        "        break"
      ],
      "metadata": {
        "colab": {
          "base_uri": "https://localhost:8080/"
        },
        "id": "STYZVClkXdpA",
        "outputId": "3fe53fe7-ec84-47c1-9748-3685a0b1c56c"
      },
      "execution_count": 4,
      "outputs": [
        {
          "name": "stdout",
          "output_type": "stream",
          "text": [
            "1. Consultar 2. Depositar 3. Retirar 4. Salir\n",
            "3\n",
            "Monto: 1412\n",
            "Fondos insuficientes\n",
            "1. Consultar 2. Depositar 3. Retirar 4. Salir\n",
            "2\n",
            "Monto: 1245115\n",
            "1. Consultar 2. Depositar 3. Retirar 4. Salir\n",
            "3\n",
            "Monto: 513\n",
            "Retiro exitoso\n",
            "1. Consultar 2. Depositar 3. Retirar 4. Salir\n",
            "4\n"
          ]
        }
      ]
    },
    {
      "cell_type": "code",
      "source": [
        "# 4 gestión de empleados\n",
        "class Empleado:\n",
        "    def __init__(self, nombre, salario):\n",
        "        self.nombre = nombre\n",
        "        self.salario = salario\n",
        "\n",
        "    def calcular_salario(self):\n",
        "        return self.salario\n",
        "\n",
        "class EmpleadoTiempoCompleto(Empleado):\n",
        "    def calcular_salario(self):\n",
        "        return self.salario * 1.1\n",
        "\n",
        "class EmpleadoMedioTiempo(Empleado):\n",
        "    def calcular_salario(self):\n",
        "        return self.salario * 0.8\n",
        "\n",
        "empleados = [EmpleadoTiempoCompleto(\"Juan\", 2000), EmpleadoMedioTiempo(\"Ana\", 2000)]\n",
        "for e in empleados:\n",
        "    print(f\"{e.nombre}: {e.calcular_salario()}\")"
      ],
      "metadata": {
        "colab": {
          "base_uri": "https://localhost:8080/"
        },
        "id": "m_TPMoNTXvK5",
        "outputId": "525d3fd5-0248-4849-e8d6-45cf7eaae923"
      },
      "execution_count": 5,
      "outputs": [
        {
          "output_type": "stream",
          "name": "stdout",
          "text": [
            "Juan: 2200.0\n",
            "Ana: 1600.0\n"
          ]
        }
      ]
    },
    {
      "cell_type": "code",
      "source": [
        "# 5 figuras geométricas\n",
        "class Figura:\n",
        "    def area(self):\n",
        "        pass\n",
        "\n",
        "class Rectangulo(Figura):\n",
        "    def __init__(self, base, altura):\n",
        "        self.base = base\n",
        "        self.altura = altura\n",
        "\n",
        "    def area(self):\n",
        "        return self.base * self.altura\n",
        "\n",
        "class Triangulo(Figura):\n",
        "    def __init__(self, base, altura):\n",
        "        self.base = base\n",
        "        self.altura = altura\n",
        "\n",
        "    def area(self):\n",
        "        return (self.base * self.altura) / 2\n",
        "\n",
        "class Circulo(Figura):\n",
        "    def __init__(self, radio):\n",
        "        self.radio = radio\n",
        "\n",
        "    def area(self):\n",
        "        return 3.1416 * self.radio ** 2\n",
        "\n",
        "figuras = [Rectangulo(4, 5), Triangulo(4, 5), Circulo(3)]\n",
        "for f in figuras:\n",
        "    print(f.area())"
      ],
      "metadata": {
        "colab": {
          "base_uri": "https://localhost:8080/"
        },
        "id": "ZKhAt455XxLx",
        "outputId": "bf61dd8c-39c5-4090-db29-9efde2f3ad3f"
      },
      "execution_count": 6,
      "outputs": [
        {
          "output_type": "stream",
          "name": "stdout",
          "text": [
            "20\n",
            "10.0\n",
            "28.2744\n"
          ]
        }
      ]
    },
    {
      "cell_type": "code",
      "source": [
        "# 6 sistema de mascotas\n",
        "class Mascota:\n",
        "    def hacer_sonido(self):\n",
        "        pass\n",
        "\n",
        "class Perro(Mascota):\n",
        "    def hacer_sonido(self):\n",
        "        return \"Guau\"\n",
        "\n",
        "class Gato(Mascota):\n",
        "    def hacer_sonido(self):\n",
        "        return \"Miau\"\n",
        "\n",
        "class Pez(Mascota):\n",
        "    def hacer_sonido(self):\n",
        "        return \"...\"\n",
        "\n",
        "mascotas = []\n",
        "while True:\n",
        "    print(\"1. Agregar 2. Listar 3. Salir\")\n",
        "    opcion = input()\n",
        "    if opcion == \"1\":\n",
        "        tipo = input(\"Tipo (Perro/Gato/Pez): \")\n",
        "        if tipo == \"Perro\":\n",
        "            mascotas.append(Perro())\n",
        "        elif tipo == \"Gato\":\n",
        "            mascotas.append(Gato())\n",
        "        elif tipo == \"Pez\":\n",
        "            mascotas.append(Pez())\n",
        "    elif opcion == \"2\":\n",
        "        for m in mascotas:\n",
        "            print(m.hacer_sonido())\n",
        "    elif opcion == \"3\":\n",
        "        break"
      ],
      "metadata": {
        "colab": {
          "base_uri": "https://localhost:8080/"
        },
        "id": "JpFC1YMsX0wB",
        "outputId": "b6df66b6-c4ce-4418-f994-47c74a2b8f98"
      },
      "execution_count": 7,
      "outputs": [
        {
          "name": "stdout",
          "output_type": "stream",
          "text": [
            "1. Agregar 2. Listar 3. Salir\n",
            "1\n",
            "Tipo (Perro/Gato/Pez): 3\n",
            "1. Agregar 2. Listar 3. Salir\n",
            "2\n",
            "1. Agregar 2. Listar 3. Salir\n",
            "1\n",
            "Tipo (Perro/Gato/Pez): gato\n",
            "1. Agregar 2. Listar 3. Salir\n",
            "2\n",
            "1. Agregar 2. Listar 3. Salir\n",
            "3\n"
          ]
        }
      ]
    },
    {
      "cell_type": "code",
      "source": [
        "# 7 registro de estudiantes y notas\n",
        "class Estudiante:\n",
        "    def __init__(self, nombre):\n",
        "        self.nombre = nombre\n",
        "        self.notas = []\n",
        "\n",
        "    def agregar_nota(self, nota):\n",
        "        self.notas.append(nota)\n",
        "\n",
        "    def promedio(self):\n",
        "        return sum(self.notas) / len(self.notas) if self.notas else 0\n",
        "\n",
        "    def aprobado(self):\n",
        "        return self.promedio() >= 6\n",
        "\n",
        "class EstudianteBecado(Estudiante):\n",
        "    def aprobado(self):\n",
        "        return self.promedio() >= 7\n",
        "\n",
        "e1 = Estudiante(\"Juan\")\n",
        "e1.agregar_nota(7)\n",
        "e1.agregar_nota(5)\n",
        "print(e1.aprobado())\n",
        "\n",
        "e2 = EstudianteBecado(\"Ana\")\n",
        "e2.agregar_nota(6)\n",
        "e2.agregar_nota(7)\n",
        "print(e2.aprobado())"
      ],
      "metadata": {
        "colab": {
          "base_uri": "https://localhost:8080/"
        },
        "id": "6uZsCLMJX7dC",
        "outputId": "07e98823-601f-4d50-e6c3-1d0ce77a01b4"
      },
      "execution_count": 8,
      "outputs": [
        {
          "output_type": "stream",
          "name": "stdout",
          "text": [
            "True\n",
            "False\n"
          ]
        }
      ]
    },
    {
      "cell_type": "code",
      "source": [
        "# 8 tienda en línea\n",
        "class Producto:\n",
        "    def __init__(self, nombre, precio):\n",
        "        self.nombre = nombre\n",
        "        self.precio = precio\n",
        "\n",
        "class Cliente:\n",
        "    def __init__(self, nombre):\n",
        "        self.nombre = nombre\n",
        "        self.carrito = []\n",
        "\n",
        "    def agregar_producto(self, producto):\n",
        "        self.carrito.append(producto)\n",
        "\n",
        "    def total(self):\n",
        "        subtotal = sum(p.precio for p in self.carrito)\n",
        "        if len(self.carrito) > 3:\n",
        "            return subtotal * 0.9\n",
        "        return subtotal\n",
        "\n",
        "cliente = Cliente(\"Maria\")\n",
        "productos = [Producto(\"Laptop\", 1000), Producto(\"Mouse\", 50), Producto(\"Teclado\", 100), Producto(\"Monitor\", 300)]\n",
        "\n",
        "while True:\n",
        "    print(\"1. Comprar 2. Ver total 3. Salir\")\n",
        "    opcion = input()\n",
        "    if opcion == \"1\":\n",
        "        for i, p in enumerate(productos):\n",
        "            print(f\"{i+1}. {p.nombre} - ${p.precio}\")\n",
        "        cliente.agregar_producto(productos[int(input(\"Seleccione: \"))-1])\n",
        "    elif opcion == \"2\":\n",
        "        print(f\"Total: ${cliente.total()}\")\n",
        "    elif opcion == \"3\":\n",
        "        break"
      ],
      "metadata": {
        "colab": {
          "base_uri": "https://localhost:8080/"
        },
        "id": "45sfzadtX9YB",
        "outputId": "49f28f4a-6fbe-411f-d5ef-7ccc0a641e01"
      },
      "execution_count": 9,
      "outputs": [
        {
          "name": "stdout",
          "output_type": "stream",
          "text": [
            "1. Comprar 2. Ver total 3. Salir\n",
            "1\n",
            "1. Laptop - $1000\n",
            "2. Mouse - $50\n",
            "3. Teclado - $100\n",
            "4. Monitor - $300\n",
            "Seleccione: 4\n",
            "1. Comprar 2. Ver total 3. Salir\n",
            "1\n",
            "1. Laptop - $1000\n",
            "2. Mouse - $50\n",
            "3. Teclado - $100\n",
            "4. Monitor - $300\n",
            "Seleccione: 3\n",
            "1. Comprar 2. Ver total 3. Salir\n",
            "2\n",
            "Total: $400\n",
            "1. Comprar 2. Ver total 3. Salir\n",
            "3\n"
          ]
        }
      ]
    },
    {
      "cell_type": "code",
      "source": [
        "# 9 zoológico interactivo\n",
        "class Animal:\n",
        "    def emitir_sonido(self):\n",
        "        pass\n",
        "\n",
        "class Leon(Animal):\n",
        "    def emitir_sonido(self):\n",
        "        return \"Rugido\"\n",
        "\n",
        "class Tigre(Animal):\n",
        "    def emitir_sonido(self):\n",
        "        return \"Grrr\"\n",
        "\n",
        "class Elefante(Animal):\n",
        "    def emitir_sonido(self):\n",
        "        return \"Barrito\"\n",
        "\n",
        "animales = [Leon(), Tigre(), Elefante()]\n",
        "\n",
        "while True:\n",
        "    print(\"1. Recorrer 2. Salir\")\n",
        "    opcion = input()\n",
        "    if opcion == \"1\":\n",
        "        for a in animales:\n",
        "            print(a.emitir_sonido())\n",
        "    elif opcion == \"2\":\n",
        "        break\n"
      ],
      "metadata": {
        "colab": {
          "base_uri": "https://localhost:8080/"
        },
        "id": "jPJvQXxPYE6j",
        "outputId": "c0e37112-7343-475a-a2bd-f8742a703b38"
      },
      "execution_count": 10,
      "outputs": [
        {
          "name": "stdout",
          "output_type": "stream",
          "text": [
            "1. Recorrer 2. Salir\n",
            "1\n",
            "Rugido\n",
            "Grrr\n",
            "Barrito\n",
            "1. Recorrer 2. Salir\n",
            "1\n",
            "Rugido\n",
            "Grrr\n",
            "Barrito\n",
            "1. Recorrer 2. Salir\n",
            "2\n"
          ]
        }
      ]
    },
    {
      "cell_type": "code",
      "source": [
        "# 10 agenda de contactos\n",
        "class Contacto:\n",
        "    def __init__(self, nombre):\n",
        "        self.nombre = nombre\n",
        "\n",
        "    def saludo(self):\n",
        "        pass\n",
        "\n",
        "class Amigo(Contacto):\n",
        "    def saludo(self):\n",
        "        return f\"¡Hola {self.nombre}!\"\n",
        "\n",
        "class Familiar(Contacto):\n",
        "    def saludo(self):\n",
        "        return f\"Hola querido {self.nombre}\"\n",
        "\n",
        "class Trabajo(Contacto):\n",
        "    def saludo(self):\n",
        "        return f\"Buen día {self.nombre}\"\n",
        "\n",
        "contactos = [Amigo(\"Carlos\"), Familiar(\"Luisa\"), Trabajo(\"Jefe\")]\n",
        "\n",
        "while True:\n",
        "    print(\"1. Buscar 2. Salir\")\n",
        "    opcion = input()\n",
        "    if opcion == \"1\":\n",
        "        nombre = input(\"Nombre: \")\n",
        "        for c in contactos:\n",
        "            if c.nombre == nombre:\n",
        "                print(c.saludo())\n",
        "                break\n",
        "        else:\n",
        "            print(\"No encontrado\")\n",
        "    elif opcion == \"2\":\n",
        "        break"
      ],
      "metadata": {
        "colab": {
          "base_uri": "https://localhost:8080/"
        },
        "id": "ytmAc1z_YHso",
        "outputId": "8908500e-29f2-49ee-fd29-73475d0abcdb"
      },
      "execution_count": 11,
      "outputs": [
        {
          "name": "stdout",
          "output_type": "stream",
          "text": [
            "1. Buscar 2. Salir\n",
            "1\n",
            "Nombre: 1\n",
            "No encontrado\n",
            "1. Buscar 2. Salir\n",
            "2\n"
          ]
        }
      ]
    }
  ]
}