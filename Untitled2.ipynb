{
  "nbformat": 4,
  "nbformat_minor": 0,
  "metadata": {
    "colab": {
      "provenance": [],
      "authorship_tag": "ABX9TyMFtVbkzweqJR7aZMHoqAwl",
      "include_colab_link": true
    },
    "kernelspec": {
      "name": "python3",
      "display_name": "Python 3"
    },
    "language_info": {
      "name": "python"
    }
  },
  "cells": [
    {
      "cell_type": "markdown",
      "metadata": {
        "id": "view-in-github",
        "colab_type": "text"
      },
      "source": [
        "<a href=\"https://colab.research.google.com/github/PamCom/quintomartes/blob/main/Untitled2.ipynb\" target=\"_parent\"><img src=\"https://colab.research.google.com/assets/colab-badge.svg\" alt=\"Open In Colab\"/></a>"
      ]
    },
    {
      "cell_type": "code",
      "execution_count": null,
      "metadata": {
        "colab": {
          "base_uri": "https://localhost:8080/"
        },
        "id": "LmrD_kxyWCPW",
        "outputId": "6f99e70a-d6ca-4644-b4b1-a1cfe671e24d"
      },
      "outputs": [
        {
          "output_type": "stream",
          "name": "stdout",
          "text": [
            "Soy un auto\n",
            "Soy una moto\n",
            "Soy un camión\n"
          ]
        }
      ],
      "source": [
        "# 1 sistema de vehículos\n",
        "class Vehiculo:\n",
        "    def describir(self):\n",
        "        pass\n",
        "\n",
        "class Auto(Vehiculo):\n",
        "    def describir(self):\n",
        "        return \"Soy un auto\"\n",
        "\n",
        "class Moto(Vehiculo):\n",
        "    def describir(self):\n",
        "        return \"Soy una moto\"\n",
        "\n",
        "class Camion(Vehiculo):\n",
        "    def describir(self):\n",
        "        return \"Soy un camión\"\n",
        "\n",
        "vehiculos = [Auto(), Moto(), Camion()]\n",
        "for v in vehiculos:\n",
        "    print(v.describir())"
      ]
    },
    {
      "cell_type": "code",
      "source": [
        "# 2 inventario de productos\n",
        "class Producto:\n",
        "    def __init__(self, precio, cantidad):\n",
        "        self.precio = precio\n",
        "        self.cantidad = cantidad\n",
        "\n",
        "class ProductoPerecedero(Producto):\n",
        "    pass\n",
        "\n",
        "class ProductoNoPerecedero(Producto):\n",
        "    pass\n",
        "\n",
        "productos = [ProductoPerecedero(10, 5), ProductoNoPerecedero(20, 15)]\n",
        "total = 0\n",
        "for p in productos:\n",
        "    if p.cantidad > 10:\n",
        "        total += p.precio * p.cantidad * 0.9\n",
        "    else:\n",
        "        total += p.precio * p.cantidad\n",
        "print(total)"
      ],
      "metadata": {
        "colab": {
          "base_uri": "https://localhost:8080/"
        },
        "id": "wigkV5gOXRu6",
        "outputId": "c7a85093-7d6f-432b-a31a-96749b3bc455"
      },
      "execution_count": null,
      "outputs": [
        {
          "output_type": "stream",
          "name": "stdout",
          "text": [
            "320.0\n"
          ]
        }
      ]
    },
    {
      "cell_type": "code",
      "source": [
        "# 3 sistema bancario\n",
        "class CuentaBancaria:\n",
        "    def __init__(self, saldo):\n",
        "        self.saldo = saldo\n",
        "\n",
        "    def mostrar_tipo(self):\n",
        "        pass\n",
        "\n",
        "    def consultar_saldo(self):\n",
        "        return self.saldo\n",
        "\n",
        "    def depositar(self, monto):\n",
        "        self.saldo += monto\n",
        "\n",
        "    def retirar(self, monto):\n",
        "        if monto <= self.saldo:\n",
        "            self.saldo -= monto\n",
        "            return True\n",
        "        return False\n",
        "\n",
        "class CuentaAhorro(CuentaBancaria):\n",
        "    def mostrar_tipo(self):\n",
        "        return \"Cuenta Ahorro\"\n",
        "\n",
        "class CuentaCorriente(CuentaBancaria):\n",
        "    def mostrar_tipo(self):\n",
        "        return \"Cuenta Corriente\"\n",
        "\n",
        "cuenta = CuentaAhorro(1000)\n",
        "while True:\n",
        "    print(\"1. Consultar 2. Depositar 3. Retirar 4. Salir\")\n",
        "    opcion = input()\n",
        "    if opcion == \"1\":\n",
        "        print(cuenta.consultar_saldo())\n",
        "    elif opcion == \"2\":\n",
        "        cuenta.depositar(float(input(\"Monto: \")))\n",
        "    elif opcion == \"3\":\n",
        "        if cuenta.retirar(float(input(\"Monto: \"))):\n",
        "            print(\"Retiro exitoso\")\n",
        "        else:\n",
        "            print(\"Fondos insuficientes\")\n",
        "    elif opcion == \"4\":\n",
        "        break"
      ],
      "metadata": {
        "colab": {
          "base_uri": "https://localhost:8080/"
        },
        "id": "STYZVClkXdpA",
        "outputId": "3fe53fe7-ec84-47c1-9748-3685a0b1c56c"
      },
      "execution_count": null,
      "outputs": [
        {
          "name": "stdout",
          "output_type": "stream",
          "text": [
            "1. Consultar 2. Depositar 3. Retirar 4. Salir\n",
            "3\n",
            "Monto: 1412\n",
            "Fondos insuficientes\n",
            "1. Consultar 2. Depositar 3. Retirar 4. Salir\n",
            "2\n",
            "Monto: 1245115\n",
            "1. Consultar 2. Depositar 3. Retirar 4. Salir\n",
            "3\n",
            "Monto: 513\n",
            "Retiro exitoso\n",
            "1. Consultar 2. Depositar 3. Retirar 4. Salir\n",
            "4\n"
          ]
        }
      ]
    },
    {
      "cell_type": "code",
      "source": [
        "# 4 gestión de empleados\n",
        "class Empleado:\n",
        "    def __init__(self, nombre, salario):\n",
        "        self.nombre = nombre\n",
        "        self.salario = salario\n",
        "\n",
        "    def calcular_salario(self):\n",
        "        return self.salario\n",
        "\n",
        "class EmpleadoTiempoCompleto(Empleado):\n",
        "    def calcular_salario(self):\n",
        "        return self.salario * 1.1\n",
        "\n",
        "class EmpleadoMedioTiempo(Empleado):\n",
        "    def calcular_salario(self):\n",
        "        return self.salario * 0.8\n",
        "\n",
        "empleados = [EmpleadoTiempoCompleto(\"Juan\", 2000), EmpleadoMedioTiempo(\"Ana\", 2000)]\n",
        "for e in empleados:\n",
        "    print(f\"{e.nombre}: {e.calcular_salario()}\")"
      ],
      "metadata": {
        "colab": {
          "base_uri": "https://localhost:8080/"
        },
        "id": "m_TPMoNTXvK5",
        "outputId": "525d3fd5-0248-4849-e8d6-45cf7eaae923"
      },
      "execution_count": null,
      "outputs": [
        {
          "output_type": "stream",
          "name": "stdout",
          "text": [
            "Juan: 2200.0\n",
            "Ana: 1600.0\n"
          ]
        }
      ]
    },
    {
      "cell_type": "code",
      "source": [
        "# 5 figuras geométricas\n",
        "class Figura:\n",
        "    def area(self):\n",
        "        pass\n",
        "\n",
        "class Rectangulo(Figura):\n",
        "    def __init__(self, base, altura):\n",
        "        self.base = base\n",
        "        self.altura = altura\n",
        "\n",
        "    def area(self):\n",
        "        return self.base * self.altura\n",
        "\n",
        "class Triangulo(Figura):\n",
        "    def __init__(self, base, altura):\n",
        "        self.base = base\n",
        "        self.altura = altura\n",
        "\n",
        "    def area(self):\n",
        "        return (self.base * self.altura) / 2\n",
        "\n",
        "class Circulo(Figura):\n",
        "    def __init__(self, radio):\n",
        "        self.radio = radio\n",
        "\n",
        "    def area(self):\n",
        "        return 3.1416 * self.radio ** 2\n",
        "\n",
        "figuras = [Rectangulo(4, 5), Triangulo(4, 5), Circulo(3)]\n",
        "for f in figuras:\n",
        "    print(f.area())"
      ],
      "metadata": {
        "colab": {
          "base_uri": "https://localhost:8080/"
        },
        "id": "ZKhAt455XxLx",
        "outputId": "bf61dd8c-39c5-4090-db29-9efde2f3ad3f"
      },
      "execution_count": null,
      "outputs": [
        {
          "output_type": "stream",
          "name": "stdout",
          "text": [
            "20\n",
            "10.0\n",
            "28.2744\n"
          ]
        }
      ]
    },
    {
      "cell_type": "code",
      "source": [
        "# 6 sistema de mascotas\n",
        "class Mascota:\n",
        "    def hacer_sonido(self):\n",
        "        pass\n",
        "\n",
        "class Perro(Mascota):\n",
        "    def hacer_sonido(self):\n",
        "        return \"Guau\"\n",
        "\n",
        "class Gato(Mascota):\n",
        "    def hacer_sonido(self):\n",
        "        return \"Miau\"\n",
        "\n",
        "class Pez(Mascota):\n",
        "    def hacer_sonido(self):\n",
        "        return \"...\"\n",
        "\n",
        "mascotas = []\n",
        "while True:\n",
        "    print(\"1. Agregar 2. Listar 3. Salir\")\n",
        "    opcion = input()\n",
        "    if opcion == \"1\":\n",
        "        tipo = input(\"Tipo (Perro/Gato/Pez): \")\n",
        "        if tipo == \"Perro\":\n",
        "            mascotas.append(Perro())\n",
        "        elif tipo == \"Gato\":\n",
        "            mascotas.append(Gato())\n",
        "        elif tipo == \"Pez\":\n",
        "            mascotas.append(Pez())\n",
        "    elif opcion == \"2\":\n",
        "        for m in mascotas:\n",
        "            print(m.hacer_sonido())\n",
        "    elif opcion == \"3\":\n",
        "        break"
      ],
      "metadata": {
        "colab": {
          "base_uri": "https://localhost:8080/"
        },
        "id": "JpFC1YMsX0wB",
        "outputId": "b6df66b6-c4ce-4418-f994-47c74a2b8f98"
      },
      "execution_count": null,
      "outputs": [
        {
          "name": "stdout",
          "output_type": "stream",
          "text": [
            "1. Agregar 2. Listar 3. Salir\n",
            "1\n",
            "Tipo (Perro/Gato/Pez): 3\n",
            "1. Agregar 2. Listar 3. Salir\n",
            "2\n",
            "1. Agregar 2. Listar 3. Salir\n",
            "1\n",
            "Tipo (Perro/Gato/Pez): gato\n",
            "1. Agregar 2. Listar 3. Salir\n",
            "2\n",
            "1. Agregar 2. Listar 3. Salir\n",
            "3\n"
          ]
        }
      ]
    },
    {
      "cell_type": "code",
      "source": [
        "# 7 registro de estudiantes y notas\n",
        "class Estudiante:\n",
        "    def __init__(self, nombre):\n",
        "        self.nombre = nombre\n",
        "        self.notas = []\n",
        "\n",
        "    def agregar_nota(self, nota):\n",
        "        self.notas.append(nota)\n",
        "\n",
        "    def promedio(self):\n",
        "        return sum(self.notas) / len(self.notas) if self.notas else 0\n",
        "\n",
        "    def aprobado(self):\n",
        "        return self.promedio() >= 6\n",
        "\n",
        "class EstudianteBecado(Estudiante):\n",
        "    def aprobado(self):\n",
        "        return self.promedio() >= 7\n",
        "\n",
        "e1 = Estudiante(\"Juan\")\n",
        "e1.agregar_nota(7)\n",
        "e1.agregar_nota(5)\n",
        "print(e1.aprobado())\n",
        "\n",
        "e2 = EstudianteBecado(\"Ana\")\n",
        "e2.agregar_nota(6)\n",
        "e2.agregar_nota(7)\n",
        "print(e2.aprobado())"
      ],
      "metadata": {
        "colab": {
          "base_uri": "https://localhost:8080/"
        },
        "id": "6uZsCLMJX7dC",
        "outputId": "07e98823-601f-4d50-e6c3-1d0ce77a01b4"
      },
      "execution_count": null,
      "outputs": [
        {
          "output_type": "stream",
          "name": "stdout",
          "text": [
            "True\n",
            "False\n"
          ]
        }
      ]
    },
    {
      "cell_type": "code",
      "source": [
        "# 8 tienda en línea\n",
        "class Producto:\n",
        "    def __init__(self, nombre, precio):\n",
        "        self.nombre = nombre\n",
        "        self.precio = precio\n",
        "\n",
        "class Cliente:\n",
        "    def __init__(self, nombre):\n",
        "        self.nombre = nombre\n",
        "        self.carrito = []\n",
        "\n",
        "    def agregar_producto(self, producto):\n",
        "        self.carrito.append(producto)\n",
        "\n",
        "    def total(self):\n",
        "        subtotal = sum(p.precio for p in self.carrito)\n",
        "        if len(self.carrito) > 3:\n",
        "            return subtotal * 0.9\n",
        "        return subtotal\n",
        "\n",
        "cliente = Cliente(\"Maria\")\n",
        "productos = [Producto(\"Laptop\", 1000), Producto(\"Mouse\", 50), Producto(\"Teclado\", 100), Producto(\"Monitor\", 300)]\n",
        "\n",
        "while True:\n",
        "    print(\"1. Comprar 2. Ver total 3. Salir\")\n",
        "    opcion = input()\n",
        "    if opcion == \"1\":\n",
        "        for i, p in enumerate(productos):\n",
        "            print(f\"{i+1}. {p.nombre} - ${p.precio}\")\n",
        "        cliente.agregar_producto(productos[int(input(\"Seleccione: \"))-1])\n",
        "    elif opcion == \"2\":\n",
        "        print(f\"Total: ${cliente.total()}\")\n",
        "    elif opcion == \"3\":\n",
        "        break"
      ],
      "metadata": {
        "colab": {
          "base_uri": "https://localhost:8080/"
        },
        "id": "45sfzadtX9YB",
        "outputId": "49f28f4a-6fbe-411f-d5ef-7ccc0a641e01"
      },
      "execution_count": null,
      "outputs": [
        {
          "name": "stdout",
          "output_type": "stream",
          "text": [
            "1. Comprar 2. Ver total 3. Salir\n",
            "1\n",
            "1. Laptop - $1000\n",
            "2. Mouse - $50\n",
            "3. Teclado - $100\n",
            "4. Monitor - $300\n",
            "Seleccione: 4\n",
            "1. Comprar 2. Ver total 3. Salir\n",
            "1\n",
            "1. Laptop - $1000\n",
            "2. Mouse - $50\n",
            "3. Teclado - $100\n",
            "4. Monitor - $300\n",
            "Seleccione: 3\n",
            "1. Comprar 2. Ver total 3. Salir\n",
            "2\n",
            "Total: $400\n",
            "1. Comprar 2. Ver total 3. Salir\n",
            "3\n"
          ]
        }
      ]
    },
    {
      "cell_type": "code",
      "source": [
        "# 9 zoológico interactivo\n",
        "class Animal:\n",
        "    def emitir_sonido(self):\n",
        "        pass\n",
        "\n",
        "class Leon(Animal):\n",
        "    def emitir_sonido(self):\n",
        "        return \"Rugido\"\n",
        "\n",
        "class Tigre(Animal):\n",
        "    def emitir_sonido(self):\n",
        "        return \"Grrr\"\n",
        "\n",
        "class Elefante(Animal):\n",
        "    def emitir_sonido(self):\n",
        "        return \"Barrito\"\n",
        "\n",
        "animales = [Leon(), Tigre(), Elefante()]\n",
        "\n",
        "while True:\n",
        "    print(\"1. Recorrer 2. Salir\")\n",
        "    opcion = input()\n",
        "    if opcion == \"1\":\n",
        "        for a in animales:\n",
        "            print(a.emitir_sonido())\n",
        "    elif opcion == \"2\":\n",
        "        break\n"
      ],
      "metadata": {
        "colab": {
          "base_uri": "https://localhost:8080/"
        },
        "id": "jPJvQXxPYE6j",
        "outputId": "c0e37112-7343-475a-a2bd-f8742a703b38"
      },
      "execution_count": null,
      "outputs": [
        {
          "name": "stdout",
          "output_type": "stream",
          "text": [
            "1. Recorrer 2. Salir\n",
            "1\n",
            "Rugido\n",
            "Grrr\n",
            "Barrito\n",
            "1. Recorrer 2. Salir\n",
            "1\n",
            "Rugido\n",
            "Grrr\n",
            "Barrito\n",
            "1. Recorrer 2. Salir\n",
            "2\n"
          ]
        }
      ]
    },
    {
      "cell_type": "code",
      "source": [
        "# 10 agenda de contactos\n",
        "class Contacto:\n",
        "    def __init__(self, nombre):\n",
        "        self.nombre = nombre\n",
        "\n",
        "    def saludo(self):\n",
        "        pass\n",
        "\n",
        "class Amigo(Contacto):\n",
        "    def saludo(self):\n",
        "        return f\"¡Hola {self.nombre}!\"\n",
        "\n",
        "class Familiar(Contacto):\n",
        "    def saludo(self):\n",
        "        return f\"Hola querido {self.nombre}\"\n",
        "\n",
        "class Trabajo(Contacto):\n",
        "    def saludo(self):\n",
        "        return f\"Buen día {self.nombre}\"\n",
        "\n",
        "contactos = [Amigo(\"Carlos\"), Familiar(\"Luisa\"), Trabajo(\"Jefe\")]\n",
        "\n",
        "while True:\n",
        "    print(\"1. Buscar 2. Salir\")\n",
        "    opcion = input()\n",
        "    if opcion == \"1\":\n",
        "        nombre = input(\"Nombre: \")\n",
        "        for c in contactos:\n",
        "            if c.nombre == nombre:\n",
        "                print(c.saludo())\n",
        "                break\n",
        "        else:\n",
        "            print(\"No encontrado\")\n",
        "    elif opcion == \"2\":\n",
        "        break"
      ],
      "metadata": {
        "colab": {
          "base_uri": "https://localhost:8080/"
        },
        "id": "ytmAc1z_YHso",
        "outputId": "8908500e-29f2-49ee-fd29-73475d0abcdb"
      },
      "execution_count": null,
      "outputs": [
        {
          "name": "stdout",
          "output_type": "stream",
          "text": [
            "1. Buscar 2. Salir\n",
            "1\n",
            "Nombre: 1\n",
            "No encontrado\n",
            "1. Buscar 2. Salir\n",
            "2\n"
          ]
        }
      ]
    },
    {
      "cell_type": "code",
      "source": [
        "# 11 figuras geométricas\n",
        "class Figura:\n",
        "    def area(self):\n",
        "        pass\n",
        "    def perimetro(self):\n",
        "        pass\n",
        "\n",
        "class Rectangulo(Figura):\n",
        "    def __init__(self, b, h):\n",
        "        self.b = b\n",
        "        self.h = h\n",
        "    def area(self):\n",
        "        return self.b * self.h\n",
        "    def perimetro(self):\n",
        "        return 2*(self.b + self.h)\n",
        "\n",
        "class Circulo(Figura):\n",
        "    def __init__(self, r):\n",
        "        self.r = r\n",
        "    def area(self):\n",
        "        return 3.1416 * self.r**2\n",
        "    def perimetro(self):\n",
        "        return 2 * 3.1416 * self.r\n",
        "\n",
        "figuras = [Rectangulo(4,5), Circulo(3)]\n",
        "for f in figuras:\n",
        "    print(f.area(), f.perimetro())"
      ],
      "metadata": {
        "colab": {
          "base_uri": "https://localhost:8080/"
        },
        "id": "uHSL_tbH-ZPI",
        "outputId": "1d89c836-d4c3-4ec0-ee99-282ac75f3393"
      },
      "execution_count": 1,
      "outputs": [
        {
          "output_type": "stream",
          "name": "stdout",
          "text": [
            "20 18\n",
            "28.2744 18.8496\n"
          ]
        }
      ]
    },
    {
      "cell_type": "code",
      "source": [
        "# 12 sistema de usuarios\n",
        "class Usuario:\n",
        "    def mostrar_privilegios(self):\n",
        "        pass\n",
        "\n",
        "class Administrador(Usuario):\n",
        "    def mostrar_privilegios(self):\n",
        "        return \"Acceso total\"\n",
        "\n",
        "class Cliente(Usuario):\n",
        "    def mostrar_privilegios(self):\n",
        "        return \"Acceso básico\"\n",
        "\n",
        "usuarios = [Administrador(), Cliente()]\n",
        "for u in usuarios:\n",
        "    print(u.mostrar_privilegios())"
      ],
      "metadata": {
        "colab": {
          "base_uri": "https://localhost:8080/"
        },
        "id": "svor8nqH-jOt",
        "outputId": "f8416edd-36bf-4b1e-922e-97ab18dedfca"
      },
      "execution_count": 2,
      "outputs": [
        {
          "output_type": "stream",
          "name": "stdout",
          "text": [
            "Acceso total\n",
            "Acceso básico\n"
          ]
        }
      ]
    },
    {
      "cell_type": "code",
      "source": [
        "# 13 simulador de animales\n",
        "class Animal:\n",
        "    def hacer_sonido(self):\n",
        "        pass\n",
        "\n",
        "class Perro(Animal):\n",
        "    def hacer_sonido(self):\n",
        "        return \"Guau\"\n",
        "\n",
        "class Gato(Animal):\n",
        "    def hacer_sonido(self):\n",
        "        return \"Miau\"\n",
        "\n",
        "class Pato(Animal):\n",
        "    def hacer_sonido(self):\n",
        "        return \"Cuack\"\n",
        "\n",
        "animales = [Perro(), Gato(), Pato()]\n",
        "for a in animales:\n",
        "    print(a.hacer_sonido())"
      ],
      "metadata": {
        "colab": {
          "base_uri": "https://localhost:8080/"
        },
        "id": "NtDqRE7V-mwV",
        "outputId": "e4b02bf3-6693-4baa-9c29-8eaeb8cce1ee"
      },
      "execution_count": 3,
      "outputs": [
        {
          "output_type": "stream",
          "name": "stdout",
          "text": [
            "Guau\n",
            "Miau\n",
            "Cuack\n"
          ]
        }
      ]
    },
    {
      "cell_type": "code",
      "source": [
        "# 14 inventario de una tienda\n",
        "class Producto:\n",
        "    def __init__(self, precio, stock):\n",
        "        self.precio = precio\n",
        "        self.stock = stock\n",
        "\n",
        "class Ropa(Producto):\n",
        "    pass\n",
        "\n",
        "class Alimento(Producto):\n",
        "    pass\n",
        "\n",
        "class Tecnologia(Producto):\n",
        "    pass\n",
        "\n",
        "productos = [Ropa(50, 5), Alimento(30, 20), Tecnologia(500, 3)]\n",
        "total = 0\n",
        "for p in productos:\n",
        "    while p.stock < 10:\n",
        "        p.precio *= 0.9\n",
        "        break\n",
        "    total += p.precio * p.stock\n",
        "print(total)\n"
      ],
      "metadata": {
        "colab": {
          "base_uri": "https://localhost:8080/"
        },
        "id": "Zqsv5r7g-sN3",
        "outputId": "e8cf3a69-dced-42ea-fa8c-8f8184a85048"
      },
      "execution_count": 4,
      "outputs": [
        {
          "output_type": "stream",
          "name": "stdout",
          "text": [
            "2175.0\n"
          ]
        }
      ]
    },
    {
      "cell_type": "code",
      "source": [
        "# 15 sistema escolar\n",
        "class Persona:\n",
        "    def rol(self):\n",
        "        pass\n",
        "\n",
        "class Estudiante(Persona):\n",
        "    def __init__(self):\n",
        "        self.notas = []\n",
        "    def rol(self):\n",
        "        return \"Aprende\"\n",
        "    def agregar_nota(self, nota):\n",
        "        self.notas.append(nota)\n",
        "    def aprobado(self):\n",
        "        return sum(self.notas)/len(self.notas) >= 6 if self.notas else False\n",
        "\n",
        "class Profesor(Persona):\n",
        "    def rol(self):\n",
        "        return \"Enseña\"\n",
        "\n",
        "e = Estudiante()\n",
        "e.agregar_nota(7)\n",
        "e.agregar_nota(5)\n",
        "print(e.aprobado())\n"
      ],
      "metadata": {
        "colab": {
          "base_uri": "https://localhost:8080/"
        },
        "id": "J5Rrd8fz-vv1",
        "outputId": "ecec44a5-ee32-4df6-ae59-fc4f48daf066"
      },
      "execution_count": 5,
      "outputs": [
        {
          "output_type": "stream",
          "name": "stdout",
          "text": [
            "True\n"
          ]
        }
      ]
    },
    {
      "cell_type": "code",
      "source": [
        "# 16 cajero automático\n",
        "class CuentaBancaria:\n",
        "    def __init__(self):\n",
        "        self.saldo = 0\n",
        "    def depositar(self, monto):\n",
        "        self.saldo += monto\n",
        "    def retirar(self, monto):\n",
        "        if monto <= self.saldo:\n",
        "            self.saldo -= monto\n",
        "\n",
        "class CuentaAhorro(CuentaBancaria):\n",
        "    pass\n",
        "\n",
        "class CuentaCorriente(CuentaBancaria):\n",
        "    pass\n",
        "\n",
        "cuenta = CuentaCorriente()\n",
        "while True:\n",
        "    op = input(\"1.Depositar 2.Retirar 3.Salir: \")\n",
        "    if op == '1':\n",
        "        cuenta.depositar(float(input(\"Monto: \")))\n",
        "    elif op == '2':\n",
        "        cuenta.retirar(float(input(\"Monto: \")))\n",
        "    elif op == '3':\n",
        "        break\n"
      ],
      "metadata": {
        "colab": {
          "base_uri": "https://localhost:8080/"
        },
        "id": "Gzf7LLki-y82",
        "outputId": "74f6ef9b-504a-44dc-b6a0-2b694aa681e0"
      },
      "execution_count": 6,
      "outputs": [
        {
          "name": "stdout",
          "output_type": "stream",
          "text": [
            "1.Depositar 2.Retirar 3.Salir: 1\n",
            "Monto: 12415\n",
            "1.Depositar 2.Retirar 3.Salir: 2\n",
            "Monto: 124\n",
            "1.Depositar 2.Retirar 3.Salir: 3\n"
          ]
        }
      ]
    },
    {
      "cell_type": "code",
      "source": [
        "# 17. Zoológico interactivo\n",
        "class Animal:\n",
        "    def alimentar(self):\n",
        "        pass\n",
        "\n",
        "class Felino(Animal):\n",
        "    def alimentar(self):\n",
        "        return \"Carne\"\n",
        "\n",
        "class Ave(Animal):\n",
        "    def alimentar(self):\n",
        "        return \"Semillas\"\n",
        "\n",
        "animales = [Felino(), Ave()]\n",
        "while True:\n",
        "    op = input(\"1.Alimentar 2.Salir: \")\n",
        "    if op == '1':\n",
        "        for a in animales:\n",
        "            print(a.alimentar())\n",
        "    elif op == '2':\n",
        "        break\n"
      ],
      "metadata": {
        "colab": {
          "base_uri": "https://localhost:8080/"
        },
        "id": "-oix2Ng8-1BW",
        "outputId": "3501aa27-a88d-4739-e81e-6e4db916fd61"
      },
      "execution_count": 7,
      "outputs": [
        {
          "name": "stdout",
          "output_type": "stream",
          "text": [
            "1.Alimentar 2.Salir: 1\n",
            "Carne\n",
            "Semillas\n",
            "1.Alimentar 2.Salir: 1\n",
            "Carne\n",
            "Semillas\n",
            "1.Alimentar 2.Salir: 2\n"
          ]
        }
      ]
    },
    {
      "cell_type": "code",
      "source": [
        "# 18 control de empleados\n",
        "class Empleado:\n",
        "    def calcular_bono(self):\n",
        "        pass\n",
        "\n",
        "class Gerente(Empleado):\n",
        "    def calcular_bono(self):\n",
        "        return 1000\n",
        "\n",
        "class Asistente(Empleado):\n",
        "    def calcular_bono(self):\n",
        "        return 500\n",
        "\n",
        "empleados = [Gerente(), Asistente()]\n",
        "total_bonos = 0\n",
        "for e in empleados:\n",
        "    total_bonos += e.calcular_bono()\n",
        "print(total_bonos)"
      ],
      "metadata": {
        "colab": {
          "base_uri": "https://localhost:8080/"
        },
        "id": "cUG7SJwW-9bm",
        "outputId": "8ca521ff-65af-47c7-cb09-ee35ce4a60df"
      },
      "execution_count": 8,
      "outputs": [
        {
          "output_type": "stream",
          "name": "stdout",
          "text": [
            "1500\n"
          ]
        }
      ]
    },
    {
      "cell_type": "code",
      "source": [
        "# 19 lotería\n",
        "import random\n",
        "class Boleto:\n",
        "    def __init__(self, numero):\n",
        "        self.numero = numero\n",
        "\n",
        "class Normal(Boleto):\n",
        "    premio = 100\n",
        "\n",
        "class Especial(Boleto):\n",
        "    premio = 500\n",
        "\n",
        "boletos = [Normal(random.randint(1,10)), Especial(random.randint(1,10))]\n",
        "sorteo = random.randint(1,10)\n",
        "for b in boletos:\n",
        "    if b.numero == sorteo:\n",
        "        print(f\"Ganó ${b.premio}\")"
      ],
      "metadata": {
        "colab": {
          "base_uri": "https://localhost:8080/"
        },
        "id": "Dz5oJ4pW_FId",
        "outputId": "3617e55e-d0c6-4cda-c1dd-1e17826c7d02"
      },
      "execution_count": 9,
      "outputs": [
        {
          "output_type": "stream",
          "name": "stdout",
          "text": [
            "Ganó $100\n"
          ]
        }
      ]
    },
    {
      "cell_type": "code",
      "source": [
        "# 20 biblioteca\n",
        "class Material:\n",
        "    def tipo_material(self):\n",
        "        pass\n",
        "\n",
        "class Libro(Material):\n",
        "    def tipo_material(self):\n",
        "        return \"Libro\"\n",
        "\n",
        "class Revista(Material):\n",
        "    def tipo_material(self):\n",
        "        return \"Revista\"\n",
        "\n",
        "class Tesis(Material):\n",
        "    def tipo_material(self):\n",
        "        return \"Tesis\"\n",
        "\n",
        "materiales = [Libro(), Revista(), Tesis(), Libro()]\n",
        "contadores = {\"Libro\":0, \"Revista\":0, \"Tesis\":0}\n",
        "for m in materiales:\n",
        "    contadores[m.tipo_material()] += 1\n",
        "print(contadores)"
      ],
      "metadata": {
        "colab": {
          "base_uri": "https://localhost:8080/"
        },
        "id": "Xw-ZzbJn_IGl",
        "outputId": "1a6cd0e1-d8f7-4095-a0f3-e29b1f4c32eb"
      },
      "execution_count": 10,
      "outputs": [
        {
          "output_type": "stream",
          "name": "stdout",
          "text": [
            "{'Libro': 2, 'Revista': 1, 'Tesis': 1}\n"
          ]
        }
      ]
    }
  ]
}